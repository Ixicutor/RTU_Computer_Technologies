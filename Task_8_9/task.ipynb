{
 "cells": [
  {
   "cell_type": "code",
   "execution_count": 16,
   "metadata": {},
   "outputs": [],
   "source": [
    "import sqlite3\n",
    "con = sqlite3.connect('movies.db')\n",
    "cur=cur = con.cursor()\n"
   ]
  },
  {
   "cell_type": "code",
   "execution_count": 10,
   "metadata": {},
   "outputs": [
    {
     "data": {
      "text/plain": [
       "<sqlite3.Cursor at 0x7f84f4dae030>"
      ]
     },
     "execution_count": 10,
     "metadata": {},
     "output_type": "execute_result"
    }
   ],
   "source": [
    "cur.execute('''CREATE TABLE movie\n",
    "               (movie_id, name, release_year, genre, rating)''')"
   ]
  },
  {
   "cell_type": "code",
   "execution_count": 22,
   "metadata": {},
   "outputs": [
    {
     "name": "stdout",
     "output_type": "stream",
     "text": [
      "[(1, 'Slaves to the Underground', 1995, 'Comedy|Drama', 3), (1, 'Slaves to the Underground', 1995, 'Comedy|Drama', 3), (1, 'Slaves to the Underground', 1995, 'Comedy|Drama', 3), (1, 'Slaves to the Underground', 1995, 'Comedy|Drama', 3), (1, 'Slaves to the Underground', 1995, 'Comedy|Drama', 3), (1, 'Slaves to the Underground', 1995, 'Comedy|Drama', 3), (1, 'Slaves to the Underground', 1995, 'Comedy|Drama', 3), (2, \"Isn't She Great?\", 1989, 'Comedy', 1), (3, 'Grassroots', 2008, 'Comedy|Drama', 1), (4, 'Shutter', 2011, 'Fantasy|Horror|Mystery|Thriller', 0), (5, 'Knight Without Armor', 2004, 'Adventure|Drama|Romance|Thriller', 5), (6, 'The Land Before Time IX: Journey to the Big Water', 1990, 'Adventure|Animation|Children', 2), (7, 'Life is a Bed of Roses (Vie est un roman, La)', 2009, 'Fantasy|Musical', 3), (8, \"Madonna's Pig\", 2010, 'Fantasy|Romance|Sci-Fi', 2), (9, 'Against the Ropes', 2007, 'Comedy|Drama', 3), (10, 'Sex Ed', 2003, 'Comedy|Romance', 5), (11, 'Far Out Man', 1999, 'Comedy', 5), (12, 'Public Speaking', 2012, 'Documentary', 3), (13, 'Great King, The (Der große König)', 1995, 'Drama|War', 5), (14, \"Angel of Mine (a.k.a. The Mark of an Angel) (L'empreinte de l'ange)\", 1964, 'Drama', 2), (15, 'C.H.U.D. II - Bud the Chud', 1994, 'Comedy|Horror', 3), (16, \"One Flew Over the Cuckoo's Nest\", 2006, 'Drama', 5), (17, 'Levity', 1995, 'Drama', 5), (18, 'Prisoner of Zenda, The', 2001, 'Action|Adventure|Romance', 2), (19, 'On Dangerous Ground', 2001, 'Crime|Drama|Film-Noir', 5), (20, 'Bleak House', 2011, 'Drama', 0), (21, 'Original Sin', 1987, 'Drama|Romance|Thriller', 1), (22, 'Batman & Robin', 2012, 'Action|Adventure|Fantasy|Thriller', 4), (23, \"By the Pricking of My Thumbs (Mon petit doigt m'a dit...)\", 2002, 'Comedy|Mystery', 3), (24, 'Princess and the Pony', 1996, 'Children|Drama', 4), (25, 'Desert Winds', 2007, 'Drama|Fantasy|Romance', 0), (26, 'Quiet Earth, The', 1998, 'Drama|Mystery|Sci-Fi', 5), (27, 'Congress, The', 2012, 'Animation|Sci-Fi', 4), (28, 'Legend of Hell House, The', 2005, 'Horror|Thriller', 0), (29, 'Paranormal Activity: The Marked Ones', 1992, 'Horror|Thriller', 4), (30, 'First Day of the Rest of Your Life, The (Le premier jour du reste de ta vie)', 1986, 'Comedy|Drama', 5), (31, 'Fortress', 1988, 'Action|Thriller', 1), (32, 'Firelight', 2012, 'Drama', 4), (33, 'Fuhrer Ex (Führer EX)', 2001, 'Drama', 3), (34, 'Paris Belongs to Us (Paris nous appartient)', 2003, 'Mystery', 1), (35, 'Headshot', 2010, 'Crime|Drama|Thriller', 2), (36, 'Running Mates', 1997, 'Comedy|Romance', 0), (37, 'White Fang 2: Myth of the White Wolf', 2003, 'Adventure|Children', 2), (38, \"Uwasa No Onna (The Woman in the Rumor) (Her Mother's Profession)\", 1988, 'Drama|Romance', 0), (39, 'Fraternity Vacation', 1989, 'Comedy|Romance', 0), (40, 'Ninotchka', 2013, 'Comedy|Romance', 2), (41, 'Sazen Tange and the Pot Worth a Million Ryo', 2004, 'Comedy|Drama', 0), (42, 'Batman: The Dark Knight Returns, Part 1', 2006, 'Action|Animation|Sci-Fi', 5), (43, 'Lake House, The', 1985, 'Drama|Fantasy|Romance', 1), (44, 'Rise of the Planet of the Apes', 2013, 'Action|Drama|Sci-Fi|Thriller', 3), (45, 'In Your Hands', 1996, 'Drama', 5), (46, 'Bad Fucking', 2002, 'Comedy', 1), (47, 'Sallah', 2002, 'Comedy', 2), (48, 'Bachelor Weekend, The', 2008, 'Comedy|Drama', 5), (49, 'North by Northwest', 2001, 'Action|Adventure|Mystery|Romance|Thriller', 4), (50, 'Walking With Dinosaurs', 1993, 'Adventure|Animation|Children', 2), (51, \"Dante's Inferno: An Animated Epic\", 1988, 'Action|Animation|Fantasy', 0), (52, \"Summer of '04 (Sommer '04)\", 2002, 'Drama', 3), (53, 'Little Nicky', 2008, 'Comedy', 1), (54, 'Death Wish 5: The Face of Death', 2011, 'Action|Drama', 5), (55, 'Limit (Limite)', 2006, 'Drama', 5), (56, 'Sundown', 2002, 'Drama|War', 4), (57, 'Solaris (Solyaris)', 2008, 'Drama|Mystery|Sci-Fi', 3), (58, \"Tough Guys Don't Dance\", 2000, 'Drama', 0), (59, \"Say It Isn't So\", 2011, 'Comedy|Romance', 1), (60, 'Christiane F. (a.k.a. We Children from Bahnhof Zoo) (Christiane F. - Wir Kinder vom Bahnhof Zoo)', 2004, 'Drama', 1), (61, 'Days and Nights in the Forest (Aranyer Din Ratri)', 2012, 'Drama', 4), (62, 'Serbian Film, A (Srpski film)', 2009, 'Horror|Thriller', 1), (63, 'Alamo, The', 2008, 'Action|Drama|War|Western', 2), (64, 'John Dies at the End', 2002, 'Comedy|Fantasy|Horror', 2), (65, 'Frances', 2009, 'Drama', 0), (66, 'Kings of Pastry (Les rois de la pâtisserie)', 2004, 'Documentary', 2), (67, 'Countdown to Looking Glass', 1984, 'Drama', 5), (68, 'About Last Night...', 1995, 'Comedy|Drama|Romance', 0), (69, 'Where the Wild Things Are', 1989, 'Adventure|Children|Drama|Fantasy|IMAX', 4), (70, 'Appointment with Death', 1998, 'Crime|Mystery', 3), (71, 'Jimmy Hollywood', 2010, 'Comedy|Crime|Drama', 0), (72, 'Now, Voyager', 1996, 'Drama|Romance', 1), (73, \"Pharaoh's Curse\", 1986, 'Horror', 2), (74, 'Castle Keep', 1997, 'Drama|War', 3), (75, 'Strip Search', 1990, 'Drama', 2), (76, 'Giliap', 1986, 'Crime|Drama', 0), (77, 'Sune på bilsemester', 2003, 'Children|Comedy', 3), (78, 'Les invincibles', 1997, 'Comedy', 3), (79, 'Oscar and the Lady in Pink', 1994, 'Drama', 5), (80, 'Jaws 2', 1998, 'Horror|Thriller', 3), (81, \"Passion of Joan of Arc, The (Passion de Jeanne d'Arc, La)\", 1996, 'Drama', 3), (82, \"Tarzan's Secret Treasure\", 2007, 'Action|Adventure', 3), (83, 'Highway to Hell', 2001, 'Action|Comedy|Fantasy|Horror', 5), (84, 'Murder by Decree', 2001, 'Mystery|Thriller', 0), (85, 'Shinobi: Heart Under Blade', 1999, 'Action|Drama|Fantasy|Romance', 1), (86, 'For Me and My Gal', 2002, 'Drama|Musical|Romance', 4), (87, 'Love Games', 1969, 'Animation|Drama|Romance', 4), (88, 'White Sheik, The (Sceicco bianco, Lo)', 1990, 'Comedy|Romance', 3), (89, 'Dracula Untold', 2001, 'Action|Drama|Fantasy', 3), (90, 'FDR: American Badass!', 1994, 'Action|Comedy', 1), (91, 'Returner (Ritaanaa)', 1999, 'Action|Adventure|Sci-Fi', 4), (92, 'Spaghetti West, The', 2011, 'Documentary', 0), (93, 'Empire', 2010, 'Crime|Drama', 3), (94, 'Pumpkin', 2000, 'Comedy|Drama|Romance', 5), (95, 'Armageddon (Armaguedon)', 2008, 'Crime|Thriller', 1), (96, '30 Days of Night: Dark Days', 2005, 'Horror|Thriller', 2), (97, 'Superman IV: The Quest for Peace', 2011, 'Action|Adventure|Sci-Fi', 0), (98, 'Thursday', 1990, 'Action|Crime|Thriller', 3), (99, 'I Walk the Line', 1997, 'Drama', 3), (100, 'Ginger Snaps', 1998, 'Drama|Horror|Thriller', 1)]\n"
     ]
    }
   ],
   "source": [
    "\"\"\"cur.execute(\"insert into movie (movie_id, name, release_year, genre, rating) values (1, 'Slaves to the Underground', 1995, 'Comedy|Drama', 3)\")\"\"\"\n",
    "\n",
    "\"\"\"con.commit()\"\"\""
   ]
  },
  {
   "cell_type": "code",
   "execution_count": 21,
   "metadata": {},
   "outputs": [
    {
     "data": {
      "text/plain": [
       "<sqlite3.Cursor at 0x7f84f4d65810>"
      ]
     },
     "execution_count": 21,
     "metadata": {},
     "output_type": "execute_result"
    }
   ],
   "source": [
    "\"\"\"\n",
    "cur.execute(\"insert into movie (movie_id, name, release_year, genre, rating) values (1, 'Slaves to the Underground', 1995, 'Comedy|Drama', 3)\")\n",
    "cur.execute(\"insert into movie (movie_id, name, release_year, genre, rating) values (2, 'Isn''t She Great?', 1989, 'Comedy', 1)\")\n",
    "cur.execute(\"insert into movie (movie_id, name, release_year, genre, rating) values (3, 'Grassroots', 2008, 'Comedy|Drama', 1)\")\n",
    "cur.execute(\"insert into movie (movie_id, name, release_year, genre, rating) values (4, 'Shutter', 2011, 'Fantasy|Horror|Mystery|Thriller', 0)\")\n",
    "cur.execute(\"insert into movie (movie_id, name, release_year, genre, rating) values (5, 'Knight Without Armor', 2004, 'Adventure|Drama|Romance|Thriller', 5)\")\n",
    "cur.execute(\"insert into movie (movie_id, name, release_year, genre, rating) values (6, 'The Land Before Time IX: Journey to the Big Water', 1990, 'Adventure|Animation|Children', 2)\")\n",
    "cur.execute(\"insert into movie (movie_id, name, release_year, genre, rating) values (7, 'Life is a Bed of Roses (Vie est un roman, La)', 2009, 'Fantasy|Musical', 3)\")\n",
    "cur.execute(\"insert into movie (movie_id, name, release_year, genre, rating) values (8, 'Madonna''s Pig', 2010, 'Fantasy|Romance|Sci-Fi', 2)\")\n",
    "cur.execute(\"insert into movie (movie_id, name, release_year, genre, rating) values (9, 'Against the Ropes', 2007, 'Comedy|Drama', 3)\")\n",
    "cur.execute(\"insert into movie (movie_id, name, release_year, genre, rating) values (10, 'Sex Ed', 2003, 'Comedy|Romance', 5)\")\n",
    "cur.execute(\"insert into movie (movie_id, name, release_year, genre, rating) values (11, 'Far Out Man', 1999, 'Comedy', 5)\")\n",
    "cur.execute(\"insert into movie (movie_id, name, release_year, genre, rating) values (12, 'Public Speaking', 2012, 'Documentary', 3)\")\n",
    "cur.execute(\"insert into movie (movie_id, name, release_year, genre, rating) values (13, 'Great King, The (Der große König)', 1995, 'Drama|War', 5)\")\n",
    "cur.execute(\"insert into movie (movie_id, name, release_year, genre, rating) values (14, 'Angel of Mine (a.k.a. The Mark of an Angel) (L''empreinte de l''ange)', 1964, 'Drama', 2)\")\n",
    "cur.execute(\"insert into movie (movie_id, name, release_year, genre, rating) values (15, 'C.H.U.D. II - Bud the Chud', 1994, 'Comedy|Horror', 3)\")\n",
    "cur.execute(\"insert into movie (movie_id, name, release_year, genre, rating) values (16, 'One Flew Over the Cuckoo''s Nest', 2006, 'Drama', 5)\")\n",
    "cur.execute(\"insert into movie (movie_id, name, release_year, genre, rating) values (17, 'Levity', 1995, 'Drama', 5)\")\n",
    "cur.execute(\"insert into movie (movie_id, name, release_year, genre, rating) values (18, 'Prisoner of Zenda, The', 2001, 'Action|Adventure|Romance', 2)\")\n",
    "cur.execute(\"insert into movie (movie_id, name, release_year, genre, rating) values (19, 'On Dangerous Ground', 2001, 'Crime|Drama|Film-Noir', 5)\")\n",
    "cur.execute(\"insert into movie (movie_id, name, release_year, genre, rating) values (20, 'Bleak House', 2011, 'Drama', 0)\")\n",
    "cur.execute(\"insert into movie (movie_id, name, release_year, genre, rating) values (21, 'Original Sin', 1987, 'Drama|Romance|Thriller', 1)\")\n",
    "cur.execute(\"insert into movie (movie_id, name, release_year, genre, rating) values (22, 'Batman & Robin', 2012, 'Action|Adventure|Fantasy|Thriller', 4)\")\n",
    "cur.execute(\"insert into movie (movie_id, name, release_year, genre, rating) values (23, 'By the Pricking of My Thumbs (Mon petit doigt m''a dit...)', 2002, 'Comedy|Mystery', 3)\")\n",
    "cur.execute(\"insert into movie (movie_id, name, release_year, genre, rating) values (24, 'Princess and the Pony', 1996, 'Children|Drama', 4)\")\n",
    "cur.execute(\"insert into movie (movie_id, name, release_year, genre, rating) values (25, 'Desert Winds', 2007, 'Drama|Fantasy|Romance', 0)\")\n",
    "cur.execute(\"insert into movie (movie_id, name, release_year, genre, rating) values (26, 'Quiet Earth, The', 1998, 'Drama|Mystery|Sci-Fi', 5)\")\n",
    "cur.execute(\"insert into movie (movie_id, name, release_year, genre, rating) values (27, 'Congress, The', 2012, 'Animation|Sci-Fi', 4)\")\n",
    "cur.execute(\"insert into movie (movie_id, name, release_year, genre, rating) values (28, 'Legend of Hell House, The', 2005, 'Horror|Thriller', 0)\")\n",
    "cur.execute(\"insert into movie (movie_id, name, release_year, genre, rating) values (29, 'Paranormal Activity: The Marked Ones', 1992, 'Horror|Thriller', 4)\")\n",
    "cur.execute(\"insert into movie (movie_id, name, release_year, genre, rating) values (30, 'First Day of the Rest of Your Life, The (Le premier jour du reste de ta vie)', 1986, 'Comedy|Drama', 5)\")\n",
    "cur.execute(\"insert into movie (movie_id, name, release_year, genre, rating) values (31, 'Fortress', 1988, 'Action|Thriller', 1)\")\n",
    "cur.execute(\"insert into movie (movie_id, name, release_year, genre, rating) values (32, 'Firelight', 2012, 'Drama', 4)\")\n",
    "cur.execute(\"insert into movie (movie_id, name, release_year, genre, rating) values (33, 'Fuhrer Ex (Führer EX)', 2001, 'Drama', 3)\")\n",
    "cur.execute(\"insert into movie (movie_id, name, release_year, genre, rating) values (34, 'Paris Belongs to Us (Paris nous appartient)', 2003, 'Mystery', 1)\")\n",
    "cur.execute(\"insert into movie (movie_id, name, release_year, genre, rating) values (35, 'Headshot', 2010, 'Crime|Drama|Thriller', 2)\")\n",
    "cur.execute(\"insert into movie (movie_id, name, release_year, genre, rating) values (36, 'Running Mates', 1997, 'Comedy|Romance', 0)\")\n",
    "cur.execute(\"insert into movie (movie_id, name, release_year, genre, rating) values (37, 'White Fang 2: Myth of the White Wolf', 2003, 'Adventure|Children', 2)\")\n",
    "cur.execute(\"insert into movie (movie_id, name, release_year, genre, rating) values (38, 'Uwasa No Onna (The Woman in the Rumor) (Her Mother''s Profession)', 1988, 'Drama|Romance', 0)\")\n",
    "cur.execute(\"insert into movie (movie_id, name, release_year, genre, rating) values (39, 'Fraternity Vacation', 1989, 'Comedy|Romance', 0)\")\n",
    "cur.execute(\"insert into movie (movie_id, name, release_year, genre, rating) values (40, 'Ninotchka', 2013, 'Comedy|Romance', 2)\")\n",
    "cur.execute(\"insert into movie (movie_id, name, release_year, genre, rating) values (41, 'Sazen Tange and the Pot Worth a Million Ryo', 2004, 'Comedy|Drama', 0)\")\n",
    "cur.execute(\"insert into movie (movie_id, name, release_year, genre, rating) values (42, 'Batman: The Dark Knight Returns, Part 1', 2006, 'Action|Animation|Sci-Fi', 5)\")\n",
    "cur.execute(\"insert into movie (movie_id, name, release_year, genre, rating) values (43, 'Lake House, The', 1985, 'Drama|Fantasy|Romance', 1)\")\n",
    "cur.execute(\"insert into movie (movie_id, name, release_year, genre, rating) values (44, 'Rise of the Planet of the Apes', 2013, 'Action|Drama|Sci-Fi|Thriller', 3)\")\n",
    "cur.execute(\"insert into movie (movie_id, name, release_year, genre, rating) values (45, 'In Your Hands', 1996, 'Drama', 5)\")\n",
    "cur.execute(\"insert into movie (movie_id, name, release_year, genre, rating) values (46, 'Bad Fucking', 2002, 'Comedy', 1)\")\n",
    "cur.execute(\"insert into movie (movie_id, name, release_year, genre, rating) values (47, 'Sallah', 2002, 'Comedy', 2)\")\n",
    "cur.execute(\"insert into movie (movie_id, name, release_year, genre, rating) values (48, 'Bachelor Weekend, The', 2008, 'Comedy|Drama', 5)\")\n",
    "cur.execute(\"insert into movie (movie_id, name, release_year, genre, rating) values (49, 'North by Northwest', 2001, 'Action|Adventure|Mystery|Romance|Thriller', 4)\")\n",
    "cur.execute(\"insert into movie (movie_id, name, release_year, genre, rating) values (50, 'Walking With Dinosaurs', 1993, 'Adventure|Animation|Children', 2)\")\n",
    "cur.execute(\"insert into movie (movie_id, name, release_year, genre, rating) values (51, 'Dante''s Inferno: An Animated Epic', 1988, 'Action|Animation|Fantasy', 0)\")\n",
    "cur.execute(\"insert into movie (movie_id, name, release_year, genre, rating) values (52, 'Summer of ''04 (Sommer ''04)', 2002, 'Drama', 3)\")\n",
    "cur.execute(\"insert into movie (movie_id, name, release_year, genre, rating) values (53, 'Little Nicky', 2008, 'Comedy', 1)\")\n",
    "cur.execute(\"insert into movie (movie_id, name, release_year, genre, rating) values (54, 'Death Wish 5: The Face of Death', 2011, 'Action|Drama', 5)\")\n",
    "cur.execute(\"insert into movie (movie_id, name, release_year, genre, rating) values (55, 'Limit (Limite)', 2006, 'Drama', 5)\")\n",
    "cur.execute(\"insert into movie (movie_id, name, release_year, genre, rating) values (56, 'Sundown', 2002, 'Drama|War', 4)\")\n",
    "cur.execute(\"insert into movie (movie_id, name, release_year, genre, rating) values (57, 'Solaris (Solyaris)', 2008, 'Drama|Mystery|Sci-Fi', 3)\")\n",
    "cur.execute(\"insert into movie (movie_id, name, release_year, genre, rating) values (58, 'Tough Guys Don''t Dance', 2000, 'Drama', 0)\")\n",
    "cur.execute(\"insert into movie (movie_id, name, release_year, genre, rating) values (59, 'Say It Isn''t So', 2011, 'Comedy|Romance', 1)\")\n",
    "cur.execute(\"insert into movie (movie_id, name, release_year, genre, rating) values (60, 'Christiane F. (a.k.a. We Children from Bahnhof Zoo) (Christiane F. - Wir Kinder vom Bahnhof Zoo)', 2004, 'Drama', 1)\")\n",
    "cur.execute(\"insert into movie (movie_id, name, release_year, genre, rating) values (61, 'Days and Nights in the Forest (Aranyer Din Ratri)', 2012, 'Drama', 4)\")\n",
    "cur.execute(\"insert into movie (movie_id, name, release_year, genre, rating) values (62, 'Serbian Film, A (Srpski film)', 2009, 'Horror|Thriller', 1)\")\n",
    "cur.execute(\"insert into movie (movie_id, name, release_year, genre, rating) values (63, 'Alamo, The', 2008, 'Action|Drama|War|Western', 2)\")\n",
    "cur.execute(\"insert into movie (movie_id, name, release_year, genre, rating) values (64, 'John Dies at the End', 2002, 'Comedy|Fantasy|Horror', 2)\")\n",
    "cur.execute(\"insert into movie (movie_id, name, release_year, genre, rating) values (65, 'Frances', 2009, 'Drama', 0)\")\n",
    "cur.execute(\"insert into movie (movie_id, name, release_year, genre, rating) values (66, 'Kings of Pastry (Les rois de la pâtisserie)', 2004, 'Documentary', 2)\")\n",
    "cur.execute(\"insert into movie (movie_id, name, release_year, genre, rating) values (67, 'Countdown to Looking Glass', 1984, 'Drama', 5)\")\n",
    "cur.execute(\"insert into movie (movie_id, name, release_year, genre, rating) values (68, 'About Last Night...', 1995, 'Comedy|Drama|Romance', 0)\")\n",
    "cur.execute(\"insert into movie (movie_id, name, release_year, genre, rating) values (69, 'Where the Wild Things Are', 1989, 'Adventure|Children|Drama|Fantasy|IMAX', 4)\")\n",
    "cur.execute(\"insert into movie (movie_id, name, release_year, genre, rating) values (70, 'Appointment with Death', 1998, 'Crime|Mystery', 3)\")\n",
    "cur.execute(\"insert into movie (movie_id, name, release_year, genre, rating) values (71, 'Jimmy Hollywood', 2010, 'Comedy|Crime|Drama', 0)\")\n",
    "cur.execute(\"insert into movie (movie_id, name, release_year, genre, rating) values (72, 'Now, Voyager', 1996, 'Drama|Romance', 1)\")\n",
    "cur.execute(\"insert into movie (movie_id, name, release_year, genre, rating) values (73, 'Pharaoh''s Curse', 1986, 'Horror', 2)\")\n",
    "cur.execute(\"insert into movie (movie_id, name, release_year, genre, rating) values (74, 'Castle Keep', 1997, 'Drama|War', 3)\")\n",
    "cur.execute(\"insert into movie (movie_id, name, release_year, genre, rating) values (75, 'Strip Search', 1990, 'Drama', 2)\")\n",
    "cur.execute(\"insert into movie (movie_id, name, release_year, genre, rating) values (76, 'Giliap', 1986, 'Crime|Drama', 0)\")\n",
    "cur.execute(\"insert into movie (movie_id, name, release_year, genre, rating) values (77, 'Sune på bilsemester', 2003, 'Children|Comedy', 3)\")\n",
    "cur.execute(\"insert into movie (movie_id, name, release_year, genre, rating) values (78, 'Les invincibles', 1997, 'Comedy', 3)\")\n",
    "cur.execute(\"insert into movie (movie_id, name, release_year, genre, rating) values (79, 'Oscar and the Lady in Pink', 1994, 'Drama', 5)\")\n",
    "cur.execute(\"insert into movie (movie_id, name, release_year, genre, rating) values (80, 'Jaws 2', 1998, 'Horror|Thriller', 3)\")\n",
    "cur.execute(\"insert into movie (movie_id, name, release_year, genre, rating) values (81, 'Passion of Joan of Arc, The (Passion de Jeanne d''Arc, La)', 1996, 'Drama', 3)\")\n",
    "cur.execute(\"insert into movie (movie_id, name, release_year, genre, rating) values (82, 'Tarzan''s Secret Treasure', 2007, 'Action|Adventure', 3)\")\n",
    "cur.execute(\"insert into movie (movie_id, name, release_year, genre, rating) values (83, 'Highway to Hell', 2001, 'Action|Comedy|Fantasy|Horror', 5)\")\n",
    "cur.execute(\"insert into movie (movie_id, name, release_year, genre, rating) values (84, 'Murder by Decree', 2001, 'Mystery|Thriller', 0)\")\n",
    "cur.execute(\"insert into movie (movie_id, name, release_year, genre, rating) values (85, 'Shinobi: Heart Under Blade', 1999, 'Action|Drama|Fantasy|Romance', 1)\")\n",
    "cur.execute(\"insert into movie (movie_id, name, release_year, genre, rating) values (86, 'For Me and My Gal', 2002, 'Drama|Musical|Romance', 4)\")\n",
    "cur.execute(\"insert into movie (movie_id, name, release_year, genre, rating) values (87, 'Love Games', 1969, 'Animation|Drama|Romance', 4)\")\n",
    "cur.execute(\"insert into movie (movie_id, name, release_year, genre, rating) values (88, 'White Sheik, The (Sceicco bianco, Lo)', 1990, 'Comedy|Romance', 3)\")\n",
    "cur.execute(\"insert into movie (movie_id, name, release_year, genre, rating) values (89, 'Dracula Untold', 2001, 'Action|Drama|Fantasy', 3)\")\n",
    "cur.execute(\"insert into movie (movie_id, name, release_year, genre, rating) values (90, 'FDR: American Badass!', 1994, 'Action|Comedy', 1)\")\n",
    "cur.execute(\"insert into movie (movie_id, name, release_year, genre, rating) values (91, 'Returner (Ritaanaa)', 1999, 'Action|Adventure|Sci-Fi', 4)\")\n",
    "cur.execute(\"insert into movie (movie_id, name, release_year, genre, rating) values (92, 'Spaghetti West, The', 2011, 'Documentary', 0)\")\n",
    "cur.execute(\"insert into movie (movie_id, name, release_year, genre, rating) values (93, 'Empire', 2010, 'Crime|Drama', 3)\")\n",
    "cur.execute(\"insert into movie (movie_id, name, release_year, genre, rating) values (94, 'Pumpkin', 2000, 'Comedy|Drama|Romance', 5)\")\n",
    "cur.execute(\"insert into movie (movie_id, name, release_year, genre, rating) values (95, 'Armageddon (Armaguedon)', 2008, 'Crime|Thriller', 1)\")\n",
    "cur.execute(\"insert into movie (movie_id, name, release_year, genre, rating) values (96, '30 Days of Night: Dark Days', 2005, 'Horror|Thriller', 2)\")\n",
    "cur.execute(\"insert into movie (movie_id, name, release_year, genre, rating) values (97, 'Superman IV: The Quest for Peace', 2011, 'Action|Adventure|Sci-Fi', 0)\")\n",
    "cur.execute(\"insert into movie (movie_id, name, release_year, genre, rating) values (98, 'Thursday', 1990, 'Action|Crime|Thriller', 3)\")\n",
    "cur.execute(\"insert into movie (movie_id, name, release_year, genre, rating) values (99, 'I Walk the Line', 1997, 'Drama', 3)\")\n",
    "cur.execute(\"insert into movie (movie_id, name, release_year, genre, rating) values (100, 'Ginger Snaps', 1998, 'Drama|Horror|Thriller', 1)\")\"\"\""
   ]
  },
  {
   "cell_type": "code",
   "execution_count": 24,
   "metadata": {},
   "outputs": [
    {
     "name": "stdout",
     "output_type": "stream",
     "text": [
      "[('Slaves to the Underground',), ('Slaves to the Underground',), ('Slaves to the Underground',), ('Slaves to the Underground',), ('Slaves to the Underground',), ('Slaves to the Underground',), ('Slaves to the Underground',), (\"Isn't She Great?\",), ('Grassroots',), ('Shutter',), ('Knight Without Armor',), ('The Land Before Time IX: Journey to the Big Water',), ('Life is a Bed of Roses (Vie est un roman, La)',), (\"Madonna's Pig\",), ('Against the Ropes',), ('Sex Ed',), ('Far Out Man',), ('Public Speaking',), ('Great King, The (Der große König)',), (\"Angel of Mine (a.k.a. The Mark of an Angel) (L'empreinte de l'ange)\",), ('C.H.U.D. II - Bud the Chud',), (\"One Flew Over the Cuckoo's Nest\",), ('Levity',), ('Prisoner of Zenda, The',), ('On Dangerous Ground',), ('Bleak House',), ('Original Sin',), ('Batman & Robin',), (\"By the Pricking of My Thumbs (Mon petit doigt m'a dit...)\",), ('Princess and the Pony',), ('Desert Winds',), ('Quiet Earth, The',), ('Congress, The',), ('Legend of Hell House, The',), ('Paranormal Activity: The Marked Ones',), ('First Day of the Rest of Your Life, The (Le premier jour du reste de ta vie)',), ('Fortress',), ('Firelight',), ('Fuhrer Ex (Führer EX)',), ('Paris Belongs to Us (Paris nous appartient)',), ('Headshot',), ('Running Mates',), ('White Fang 2: Myth of the White Wolf',), (\"Uwasa No Onna (The Woman in the Rumor) (Her Mother's Profession)\",), ('Fraternity Vacation',), ('Ninotchka',), ('Sazen Tange and the Pot Worth a Million Ryo',), ('Batman: The Dark Knight Returns, Part 1',), ('Lake House, The',), ('Rise of the Planet of the Apes',), ('In Your Hands',), ('Bad Fucking',), ('Sallah',), ('Bachelor Weekend, The',), ('North by Northwest',), ('Walking With Dinosaurs',), (\"Dante's Inferno: An Animated Epic\",), (\"Summer of '04 (Sommer '04)\",), ('Little Nicky',), ('Death Wish 5: The Face of Death',), ('Limit (Limite)',), ('Sundown',), ('Solaris (Solyaris)',), (\"Tough Guys Don't Dance\",), (\"Say It Isn't So\",), ('Christiane F. (a.k.a. We Children from Bahnhof Zoo) (Christiane F. - Wir Kinder vom Bahnhof Zoo)',), ('Days and Nights in the Forest (Aranyer Din Ratri)',), ('Serbian Film, A (Srpski film)',), ('Alamo, The',), ('John Dies at the End',), ('Frances',), ('Kings of Pastry (Les rois de la pâtisserie)',), ('Countdown to Looking Glass',), ('About Last Night...',), ('Where the Wild Things Are',), ('Appointment with Death',), ('Jimmy Hollywood',), ('Now, Voyager',), (\"Pharaoh's Curse\",), ('Castle Keep',), ('Strip Search',), ('Giliap',), ('Sune på bilsemester',), ('Les invincibles',), ('Oscar and the Lady in Pink',), ('Jaws 2',), (\"Passion of Joan of Arc, The (Passion de Jeanne d'Arc, La)\",), (\"Tarzan's Secret Treasure\",), ('Highway to Hell',), ('Murder by Decree',), ('Shinobi: Heart Under Blade',), ('For Me and My Gal',), ('Love Games',), ('White Sheik, The (Sceicco bianco, Lo)',), ('Dracula Untold',), ('FDR: American Badass!',), ('Returner (Ritaanaa)',), ('Spaghetti West, The',), ('Empire',), ('Pumpkin',), ('Armageddon (Armaguedon)',), ('30 Days of Night: Dark Days',), ('Superman IV: The Quest for Peace',), ('Thursday',), ('I Walk the Line',), ('Ginger Snaps',)]\n",
      "[(1, 'Slaves to the Underground', 1995, 'Comedy|Drama', 3), (1, 'Slaves to the Underground', 1995, 'Comedy|Drama', 3), (1, 'Slaves to the Underground', 1995, 'Comedy|Drama', 3), (1, 'Slaves to the Underground', 1995, 'Comedy|Drama', 3), (1, 'Slaves to the Underground', 1995, 'Comedy|Drama', 3), (1, 'Slaves to the Underground', 1995, 'Comedy|Drama', 3), (1, 'Slaves to the Underground', 1995, 'Comedy|Drama', 3)]\n"
     ]
    }
   ],
   "source": [
    "\n",
    "cur.execute(\"select name from movie\")\n",
    "print(cur.fetchall())\n",
    "\n",
    "cur.execute(\"select * from movie Where movie_id==1\")\n",
    "print(cur.fetchall())"
   ]
  },
  {
   "cell_type": "code",
   "execution_count": 27,
   "metadata": {},
   "outputs": [
    {
     "name": "stdout",
     "output_type": "stream",
     "text": [
      "[(2, \"Isn't She Great?\", 2000, 'Comedy', 1)]\n"
     ]
    }
   ],
   "source": [
    "cur.execute(\"Update movie set release_year=2000 where movie_id=2\")\n",
    "cur.execute(\"select * from movie Where movie_id==2\")\n",
    "print(cur.fetchall())"
   ]
  },
  {
   "cell_type": "code",
   "execution_count": 33,
   "metadata": {},
   "outputs": [
    {
     "name": "stdout",
     "output_type": "stream",
     "text": [
      "[(17,)]\n",
      "[(4, 'Shutter', 2011, 'Fantasy|Horror|Mystery|Thriller', 0), (20, 'Bleak House', 2011, 'Drama', 0), (25, 'Desert Winds', 2007, 'Drama|Fantasy|Romance', 0), (28, 'Legend of Hell House, The', 2005, 'Horror|Thriller', 0), (36, 'Running Mates', 1997, 'Comedy|Romance', 0), (38, \"Uwasa No Onna (The Woman in the Rumor) (Her Mother's Profession)\", 1988, 'Drama|Romance', 0), (39, 'Fraternity Vacation', 1989, 'Comedy|Romance', 0), (41, 'Sazen Tange and the Pot Worth a Million Ryo', 2004, 'Comedy|Drama', 0), (51, \"Dante's Inferno: An Animated Epic\", 1988, 'Action|Animation|Fantasy', 0), (58, \"Tough Guys Don't Dance\", 2000, 'Drama', 0), (65, 'Frances', 2009, 'Drama', 0), (68, 'About Last Night...', 1995, 'Comedy|Drama|Romance', 0), (71, 'Jimmy Hollywood', 2010, 'Comedy|Crime|Drama', 0), (76, 'Giliap', 1986, 'Crime|Drama', 0), (84, 'Murder by Decree', 2001, 'Mystery|Thriller', 0), (92, 'Spaghetti West, The', 2011, 'Documentary', 0), (97, 'Superman IV: The Quest for Peace', 2011, 'Action|Adventure|Sci-Fi', 0)]\n",
      "[(0,)]\n"
     ]
    }
   ],
   "source": [
    "\n",
    "cur.execute(\"select count(*) from movie Where rating==0\")\n",
    "print(cur.fetchall())\n",
    "cur.execute(\"select * from movie Where rating==0\")\n",
    "print(cur.fetchall())\n",
    "\n",
    "\n",
    "cur.execute(\"Update movie set rating=1 where rating=0\")\n",
    "cur.execute(\"select count(*) from movie Where rating==0\")\n",
    "print(cur.fetchall())"
   ]
  },
  {
   "cell_type": "code",
   "execution_count": 38,
   "metadata": {},
   "outputs": [
    {
     "name": "stdout",
     "output_type": "stream",
     "text": [
      "[(12,)]\n",
      "[]\n",
      "[(0,)]\n"
     ]
    }
   ],
   "source": [
    "cur.execute(\"select count(*) from movie Where rating==1 and movie_id between 1 and 40\")\n",
    "print(cur.fetchall())\n",
    "\n",
    "cur.execute(\"Delete from movie Where rating==1 and movie_id between 1 and 40\")\n",
    "\n",
    "\n",
    "\n",
    "cur.execute(\"select count(*) from movie Where rating==1 and movie_id between 1 and 40\")\n",
    "print(cur.fetchall())"
   ]
  },
  {
   "cell_type": "code",
   "execution_count": 43,
   "metadata": {},
   "outputs": [
    {
     "name": "stdout",
     "output_type": "stream",
     "text": [
      "[(94,)]\n"
     ]
    }
   ],
   "source": [
    "cur.execute(\"select count(*) from movie\")\n",
    "print(cur.fetchall())\n",
    "con.commit()\n",
    "con.close()"
   ]
  }
 ],
 "metadata": {
  "interpreter": {
   "hash": "916dbcbb3f70747c44a77c7bcd40155683ae19c65e1c03b4aa3499c5328201f1"
  },
  "kernelspec": {
   "display_name": "Python 3.8.10 64-bit",
   "name": "python3"
  },
  "language_info": {
   "codemirror_mode": {
    "name": "ipython",
    "version": 3
   },
   "file_extension": ".py",
   "mimetype": "text/x-python",
   "name": "python",
   "nbconvert_exporter": "python",
   "pygments_lexer": "ipython3",
   "version": "3.8.10"
  },
  "orig_nbformat": 4
 },
 "nbformat": 4,
 "nbformat_minor": 2
}
